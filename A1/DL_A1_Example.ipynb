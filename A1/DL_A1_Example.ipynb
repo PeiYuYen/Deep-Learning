{
 "cells": [
  {
   "cell_type": "markdown",
   "id": "9ff4a2bc-42e2-40af-b3c4-6e61d50deed0",
   "metadata": {},
   "source": [
    "# Assignment Example\n",
    "\n",
    "## Objective: Find all file paths in the Validation Set that contain \"240509\" in the file name, and arrange all outputs according to the format of the example file.\n",
    "\n",
    "## Output: Convert all outputs into a JSON file."
   ]
  },
  {
   "cell_type": "code",
   "execution_count": 55,
   "id": "9889612a-ce86-4fc2-9525-2fd25b6494f7",
   "metadata": {},
   "outputs": [],
   "source": [
    "import torch\n",
    "import json\n",
    "\n",
    "from torch.utils.data import Dataset, DataLoader"
   ]
  },
  {
   "cell_type": "code",
   "execution_count": 56,
   "id": "06658e06-01ac-4d72-8ea7-4db9dd13a335",
   "metadata": {},
   "outputs": [],
   "source": [
    "class CSI_Dataset(Dataset):\n",
    "    def __init__(self, split='train'):\n",
    "        self.split = split\n",
    "        with open('./CSI_data.json', 'r') as file:\n",
    "            self.json_data = json.load(file)\n",
    "\n",
    "        self.data_split = self.json_data[split]\n",
    "        \n",
    "        mask = 'Female2'\n",
    "        self.data = [self.data_split[index] for index in range(len(self.data_split)) if mask in self.data_split[index]]\n",
    "            \n",
    "    def __len__(self):\n",
    "        return len(self.data)\n",
    "\n",
    "    def __getitem__(self, idx):\n",
    "        return self.data[idx]"
   ]
  },
  {
   "cell_type": "code",
   "execution_count": 57,
   "id": "c34577b4-c996-41c8-a229-47624fb50244",
   "metadata": {},
   "outputs": [],
   "source": [
    "dataset = CSI_Dataset(split='val')\n",
    "dataloader = DataLoader(dataset, batch_size=len(dataset), shuffle=False)"
   ]
  },
  {
   "cell_type": "code",
   "execution_count": 58,
   "id": "bf52fab2-da9d-480a-b5b6-e0f5b0b73afe",
   "metadata": {},
   "outputs": [],
   "source": [
    "output = next(iter(dataloader))"
   ]
  },
  {
   "cell_type": "code",
   "execution_count": 59,
   "id": "a425b671-2b1f-45f1-8f96-5062e6582748",
   "metadata": {},
   "outputs": [
    {
     "data": {
      "text/plain": [
       "['val_set/npy/Female2/rand_posi/240509_112648/1715225219770038272',\n",
       " 'val_set/npy/Female2/rand_posi/240509_112648/1715225219819334750',\n",
       " 'val_set/npy/Female2/rand_posi/240509_112648/1715225219867747249',\n",
       " 'val_set/npy/Female2/rand_posi/240509_112648/1715225219914162803',\n",
       " 'val_set/npy/Female2/rand_posi/240509_112648/1715225219968336512',\n",
       " 'val_set/npy/Female2/rand_posi/240509_112648/1715225220020782806',\n",
       " 'val_set/npy/Female2/rand_posi/240509_112648/1715225220071370887',\n",
       " 'val_set/npy/Female2/rand_posi/240509_112648/1715225220122752837',\n",
       " 'val_set/npy/Female2/rand_posi/240509_112648/1715225220169494213',\n",
       " 'val_set/npy/Female2/rand_posi/240509_112648/1715225220215889574']"
      ]
     },
     "execution_count": 59,
     "metadata": {},
     "output_type": "execute_result"
    }
   ],
   "source": [
    "## 看一下輸出是否正確\n",
    "output[:10]"
   ]
  },
  {
   "cell_type": "code",
   "execution_count": 60,
   "id": "4cdb7655-41cc-48a4-b4b9-1f84ae23538a",
   "metadata": {},
   "outputs": [],
   "source": [
    "data_dict = {i: value for i, value in enumerate(output)}\n",
    "\n",
    "with open('./Hw_1.json', 'w') as json_file:\n",
    "    json.dump(data_dict, json_file, indent=4)"
   ]
  }
 ],
 "metadata": {
  "kernelspec": {
   "display_name": "base",
   "language": "python",
   "name": "python3"
  },
  "language_info": {
   "codemirror_mode": {
    "name": "ipython",
    "version": 3
   },
   "file_extension": ".py",
   "mimetype": "text/x-python",
   "name": "python",
   "nbconvert_exporter": "python",
   "pygments_lexer": "ipython3",
   "version": "3.10.14"
  }
 },
 "nbformat": 4,
 "nbformat_minor": 5
}
