{
 "cells": [
  {
   "cell_type": "code",
   "execution_count": 5,
   "metadata": {},
   "outputs": [],
   "source": [
    "import numpy as np\n",
    "\n",
    "# Sigmoid 激活函數\n",
    "def sigmoid(x):\n",
    "    return 1 / (1 + np.exp(-x))\n",
    "\n",
    "# Sigmoid 函數的導數\n",
    "def sigmoid_derivative(x):\n",
    "    return x * (1 - x)\n"
   ]
  },
  {
   "cell_type": "code",
   "execution_count": 6,
   "metadata": {},
   "outputs": [],
   "source": [
    "# 輸入數據 (XOR inputs)\n",
    "inputs = np.array([[0, 0],\n",
    "                   [0, 1],\n",
    "                   [1, 0],\n",
    "                   [1, 1]])\n",
    "\n",
    "# 對應的標籤 (XOR outputs)\n",
    "outputs = np.array([[0], \n",
    "                    [1], \n",
    "                    [1], \n",
    "                    [0]])\n",
    "\n",
    "# 設置隨機種子\n",
    "np.random.seed(42)\n",
    "\n",
    "# 初始化權重\n",
    "input_layer_neurons = inputs.shape[1]  # 2個輸入節點\n",
    "hidden_layer_neurons = 2               # 2個隱藏層節點\n",
    "output_neurons = 1                     # 1個輸出節點\n",
    "\n",
    "# 隨機初始化權重和偏置\n",
    "weights_input_hidden = np.random.uniform(size=(input_layer_neurons, hidden_layer_neurons))\n",
    "weights_hidden_output = np.random.uniform(size=(hidden_layer_neurons, output_neurons))\n",
    "bias_hidden = np.random.uniform(size=(1, hidden_layer_neurons))\n",
    "bias_output = np.random.uniform(size=(1, output_neurons))\n",
    "\n",
    "# 設置學習率\n",
    "learning_rate = 0.5\n",
    "epochs = 20000  # 訓練次數\n"
   ]
  },
  {
   "cell_type": "code",
   "execution_count": 7,
   "metadata": {},
   "outputs": [
    {
     "name": "stdout",
     "output_type": "stream",
     "text": [
      "Epoch 0 Loss: 0.49941109351361046\n",
      "Epoch 1000 Loss: 0.22803979949799513\n",
      "Epoch 2000 Loss: 0.05786640318155928\n",
      "Epoch 3000 Loss: 0.03941934170113361\n",
      "Epoch 4000 Loss: 0.031522350592532125\n",
      "Epoch 5000 Loss: 0.026929969780262443\n",
      "Epoch 6000 Loss: 0.023851946378852643\n",
      "Epoch 7000 Loss: 0.021610980325799597\n",
      "Epoch 8000 Loss: 0.019888356333073138\n",
      "Epoch 9000 Loss: 0.01851228605499001\n",
      "Epoch 10000 Loss: 0.017381104234456296\n",
      "Epoch 11000 Loss: 0.0164303771025794\n",
      "Epoch 12000 Loss: 0.015617065806455999\n",
      "Epoch 13000 Loss: 0.014911201947539298\n",
      "Epoch 14000 Loss: 0.014291201780233461\n",
      "Epoch 15000 Loss: 0.01374107942747543\n",
      "Epoch 16000 Loss: 0.013248712803786318\n",
      "Epoch 17000 Loss: 0.012804722919608819\n",
      "Epoch 18000 Loss: 0.012401725886641828\n",
      "Epoch 19000 Loss: 0.012033819633446251\n"
     ]
    }
   ],
   "source": [
    "# 進行訓練\n",
    "for epoch in range(epochs):\n",
    "    # 前向傳播\n",
    "    hidden_layer_input = np.dot(inputs, weights_input_hidden) + bias_hidden\n",
    "    hidden_layer_output = sigmoid(hidden_layer_input)\n",
    "\n",
    "    output_layer_input = np.dot(hidden_layer_output, weights_hidden_output) + bias_output\n",
    "    predicted_output = sigmoid(output_layer_input)\n",
    "\n",
    "    # 計算損失\n",
    "    error = outputs - predicted_output\n",
    "\n",
    "    # 反向傳播\n",
    "    d_predicted_output = error * sigmoid_derivative(predicted_output)\n",
    "\n",
    "    error_hidden_layer = d_predicted_output.dot(weights_hidden_output.T)\n",
    "    d_hidden_layer = error_hidden_layer * sigmoid_derivative(hidden_layer_output)\n",
    "\n",
    "    # 更新權重和偏置\n",
    "    weights_hidden_output += hidden_layer_output.T.dot(d_predicted_output) * learning_rate\n",
    "    weights_input_hidden += inputs.T.dot(d_hidden_layer) * learning_rate\n",
    "    bias_output += np.sum(d_predicted_output, axis=0, keepdims=True) * learning_rate\n",
    "    bias_hidden += np.sum(d_hidden_layer, axis=0, keepdims=True) * learning_rate\n",
    "\n",
    "    # 每1000次迭代打印損失\n",
    "    if epoch % 1000 == 0:\n",
    "        loss = np.mean(np.abs(error))\n",
    "        print(f\"Epoch {epoch} Loss: {loss}\")\n"
   ]
  },
  {
   "cell_type": "code",
   "execution_count": 8,
   "metadata": {},
   "outputs": [
    {
     "name": "stdout",
     "output_type": "stream",
     "text": [
      "Final predicted output:\n",
      "[[0.0130376 ]\n",
      " [0.98885993]\n",
      " [0.98885153]\n",
      " [0.01146005]]\n"
     ]
    }
   ],
   "source": [
    "# 訓練完成後，輸出結果\n",
    "print(\"Final predicted output:\")\n",
    "print(predicted_output)\n"
   ]
  },
  {
   "cell_type": "code",
   "execution_count": null,
   "metadata": {},
   "outputs": [],
   "source": []
  },
  {
   "cell_type": "code",
   "execution_count": null,
   "metadata": {},
   "outputs": [],
   "source": []
  }
 ],
 "metadata": {
  "kernelspec": {
   "display_name": "pytorch",
   "language": "python",
   "name": "python3"
  },
  "language_info": {
   "codemirror_mode": {
    "name": "ipython",
    "version": 3
   },
   "file_extension": ".py",
   "mimetype": "text/x-python",
   "name": "python",
   "nbconvert_exporter": "python",
   "pygments_lexer": "ipython3",
   "version": "3.11.0"
  }
 },
 "nbformat": 4,
 "nbformat_minor": 2
}
